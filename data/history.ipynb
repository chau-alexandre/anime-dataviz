{
 "cells": [
  {
   "cell_type": "code",
   "execution_count": 1,
   "metadata": {},
   "outputs": [],
   "source": [
    "import pandas as pd\n",
    "import json\n",
    "from ast import literal_eval"
   ]
  },
  {
   "cell_type": "code",
   "execution_count": 2,
   "metadata": {},
   "outputs": [],
   "source": [
    "data = pd.read_csv(\"raw/AnimeList.csv\")"
   ]
  },
  {
   "cell_type": "code",
   "execution_count": 3,
   "metadata": {},
   "outputs": [
    {
     "output_type": "execute_result",
     "data": {
      "text/plain": "Index(['anime_id', 'title', 'title_english', 'title_japanese',\n       'title_synonyms', 'image_url', 'type', 'source', 'episodes', 'status',\n       'airing', 'aired_string', 'aired', 'duration', 'rating', 'score',\n       'scored_by', 'rank', 'popularity', 'members', 'favorites', 'background',\n       'premiered', 'broadcast', 'related', 'producer', 'licensor', 'studio',\n       'genre', 'opening_theme', 'ending_theme'],\n      dtype='object')"
     },
     "metadata": {},
     "execution_count": 3
    }
   ],
   "source": [
    "data.columns"
   ]
  },
  {
   "cell_type": "code",
   "execution_count": 4,
   "metadata": {},
   "outputs": [
    {
     "output_type": "execute_result",
     "data": {
      "text/plain": "anime_id                                                      11013\ntitle                                                 Inu x Boku SS\ntitle_english                             Inu X Boku Secret Service\ntitle_japanese                                               妖狐×僕SS\ntitle_synonyms                                      Youko x Boku SS\nimage_url         https://myanimelist.cdn-dena.com/images/anime/...\ntype                                                             TV\nsource                                                        Manga\nepisodes                                                         12\nstatus                                              Finished Airing\nairing                                                        False\naired_string                           Jan 13, 2012 to Mar 30, 2012\naired                    {'from': '2012-01-13', 'to': '2012-03-30'}\nduration                                            24 min. per ep.\nrating                                    PG-13 - Teens 13 or older\nscore                                                          7.63\nscored_by                                                    139250\nrank                                                           1274\npopularity                                                      231\nmembers                                                      283882\nfavorites                                                      2809\nbackground        Inu x Boku SS was licensed by Sentai Filmworks...\npremiered                                               Winter 2012\nbroadcast                                        Fridays at Unknown\nrelated           {'Adaptation': [{'mal_id': 17207, 'type': 'man...\nproducer          Aniplex, Square Enix, Mainichi Broadcasting Sy...\nlicensor                                           Sentai Filmworks\nstudio                                             David Production\ngenre                        Comedy, Supernatural, Romance, Shounen\nopening_theme                                 ['\"Nirvana\" by MUCC']\nending_theme      ['#1: \"Nirvana\" by MUCC (eps 1, 11-12)', '#2: ...\nName: 0, dtype: object"
     },
     "metadata": {},
     "execution_count": 4
    }
   ],
   "source": [
    "data.iloc[0]"
   ]
  },
  {
   "cell_type": "code",
   "execution_count": 5,
   "metadata": {},
   "outputs": [],
   "source": [
    "project = data[['anime_id', 'title', 'episodes', 'aired', 'type', 'source', 'aired_string', 'duration', 'producer', 'studio', 'genre']]"
   ]
  },
  {
   "cell_type": "code",
   "execution_count": 6,
   "metadata": {},
   "outputs": [],
   "source": [
    "project['from'] = project.aired.apply(lambda x: literal_eval(x)['from'])"
   ]
  },
  {
   "cell_type": "code",
   "execution_count": 7,
   "metadata": {},
   "outputs": [],
   "source": [
    "project['to'] = project.aired.apply(lambda x: literal_eval(x)['to'])\n"
   ]
  },
  {
   "cell_type": "code",
   "execution_count": 8,
   "metadata": {},
   "outputs": [],
   "source": [
    "project.drop('aired', axis='columns', inplace=True)"
   ]
  },
  {
   "cell_type": "code",
   "execution_count": 9,
   "metadata": {},
   "outputs": [],
   "source": [
    "filtered = project[~ project['from'].apply(lambda x: x is None)]"
   ]
  },
  {
   "cell_type": "code",
   "execution_count": 10,
   "metadata": {},
   "outputs": [],
   "source": [
    "filtered['year'] = filtered['from'].apply(lambda x: int(x[:4]))"
   ]
  },
  {
   "cell_type": "code",
   "execution_count": 11,
   "metadata": {},
   "outputs": [],
   "source": [
    "filtered.drop('from', axis='columns', inplace=True)\n",
    "filtered.drop('to', axis='columns', inplace=True)"
   ]
  },
  {
   "cell_type": "code",
   "execution_count": 12,
   "metadata": {},
   "outputs": [],
   "source": [
    "grouped = filtered.groupby('year').apply(lambda x: json.loads(x.to_json(orient='records')))"
   ]
  },
  {
   "cell_type": "code",
   "execution_count": 13,
   "metadata": {},
   "outputs": [
    {
     "output_type": "execute_result",
     "data": {
      "text/plain": "year\n1917    [{'anime_id': 10757, 'title': 'Kachikachi Yama...\n1918    [{'anime_id': 10759, 'title': 'Kintarou', 'epi...\n1926    [{'anime_id': 28041, 'title': 'Baguda-jou no T...\n1927    [{'anime_id': 35492, 'title': 'Tako no Hone', ...\n1928    [{'anime_id': 7498, 'title': 'Doubutsu Olympic...\n                              ...                        \n2014    [{'anime_id': 23903, 'title': 'Tuzki: Love Ass...\n2015    [{'anime_id': 27417, 'title': 'Diabolik Lovers...\n2016    [{'anime_id': 32370, 'title': 'D.Gray-man Hall...\n2017    [{'anime_id': 34152, 'title': 'Super Danganron...\n2018    [{'anime_id': 33185, 'title': 'Peace Maker Kur...\nLength: 88, dtype: object"
     },
     "metadata": {},
     "execution_count": 13
    }
   ],
   "source": [
    "grouped"
   ]
  },
  {
   "cell_type": "code",
   "execution_count": 14,
   "metadata": {},
   "outputs": [],
   "source": [
    "grouped.to_json(\"history.json\")"
   ]
  },
  {
   "cell_type": "code",
   "execution_count": null,
   "metadata": {},
   "outputs": [],
   "source": []
  }
 ],
 "metadata": {
  "language_info": {
   "codemirror_mode": {
    "name": "ipython",
    "version": 3
   },
   "file_extension": ".py",
   "mimetype": "text/x-python",
   "name": "python",
   "nbconvert_exporter": "python",
   "pygments_lexer": "ipython3",
   "version": "3.6.9-final"
  },
  "orig_nbformat": 2,
  "kernelspec": {
   "name": "python36964bit2d30476926194d92afff160a99955f2e",
   "display_name": "Python 3.6.9 64-bit"
  }
 },
 "nbformat": 4,
 "nbformat_minor": 2
}