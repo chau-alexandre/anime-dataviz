{
 "cells": [
  {
   "cell_type": "code",
   "execution_count": 1,
   "metadata": {},
   "outputs": [],
   "source": [
    "import pandas as pd\n",
    "import json\n",
    "from ast import literal_eval"
   ]
  },
  {
   "cell_type": "code",
   "execution_count": 2,
   "metadata": {},
   "outputs": [],
   "source": [
    "data = pd.read_csv(\"raw/AnimeList.csv\")"
   ]
  },
  {
   "cell_type": "code",
   "execution_count": 3,
   "metadata": {},
   "outputs": [],
   "source": [
    "project = data[['anime_id', 'title', 'episodes', 'aired']]"
   ]
  },
  {
   "cell_type": "code",
   "execution_count": 4,
   "metadata": {},
   "outputs": [],
   "source": [
    "project['from'] = project.aired.apply(lambda x: literal_eval(x)['from'])"
   ]
  },
  {
   "cell_type": "code",
   "execution_count": 5,
   "metadata": {},
   "outputs": [],
   "source": [
    "project['to'] = project.aired.apply(lambda x: literal_eval(x)['to'])\n"
   ]
  },
  {
   "cell_type": "code",
   "execution_count": 6,
   "metadata": {},
   "outputs": [],
   "source": [
    "project.drop('aired', axis='columns', inplace=True)"
   ]
  },
  {
   "cell_type": "code",
   "execution_count": 7,
   "metadata": {},
   "outputs": [],
   "source": [
    "filtered = project[~ project['from'].apply(lambda x: x is None)]"
   ]
  },
  {
   "cell_type": "code",
   "execution_count": 8,
   "metadata": {},
   "outputs": [],
   "source": [
    "filtered['year'] = filtered['from'].apply(lambda x: int(x[:4]))"
   ]
  },
  {
   "cell_type": "code",
   "execution_count": 9,
   "metadata": {},
   "outputs": [],
   "source": [
    "grouped = filtered.groupby('year').apply(lambda x: json.loads(x.to_json(orient='records')))"
   ]
  },
  {
   "cell_type": "code",
   "execution_count": 10,
   "metadata": {},
   "outputs": [
    {
     "output_type": "execute_result",
     "data": {
      "text/plain": "year\n1917    [{'anime_id': 10757, 'title': 'Kachikachi Yama...\n1918    [{'anime_id': 10759, 'title': 'Kintarou', 'epi...\n1926    [{'anime_id': 28041, 'title': 'Baguda-jou no T...\n1927    [{'anime_id': 35492, 'title': 'Tako no Hone', ...\n1928    [{'anime_id': 7498, 'title': 'Doubutsu Olympic...\n                              ...                        \n2014    [{'anime_id': 23903, 'title': 'Tuzki: Love Ass...\n2015    [{'anime_id': 27417, 'title': 'Diabolik Lovers...\n2016    [{'anime_id': 32370, 'title': 'D.Gray-man Hall...\n2017    [{'anime_id': 34152, 'title': 'Super Danganron...\n2018    [{'anime_id': 33185, 'title': 'Peace Maker Kur...\nLength: 88, dtype: object"
     },
     "metadata": {},
     "execution_count": 10
    }
   ],
   "source": [
    "grouped"
   ]
  },
  {
   "cell_type": "code",
   "execution_count": 11,
   "metadata": {},
   "outputs": [],
   "source": [
    "grouped.to_json(\"history.json\")"
   ]
  },
  {
   "cell_type": "code",
   "execution_count": null,
   "metadata": {},
   "outputs": [],
   "source": []
  }
 ],
 "metadata": {
  "language_info": {
   "codemirror_mode": {
    "name": "ipython",
    "version": 3
   },
   "file_extension": ".py",
   "mimetype": "text/x-python",
   "name": "python",
   "nbconvert_exporter": "python",
   "pygments_lexer": "ipython3",
   "version": "3.6.9-final"
  },
  "orig_nbformat": 2,
  "kernelspec": {
   "name": "python36964bit2d30476926194d92afff160a99955f2e",
   "display_name": "Python 3.6.9 64-bit"
  }
 },
 "nbformat": 4,
 "nbformat_minor": 2
}