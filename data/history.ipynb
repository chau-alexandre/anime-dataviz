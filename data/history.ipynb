{
 "cells": [
  {
   "cell_type": "code",
   "execution_count": 31,
   "metadata": {},
   "outputs": [],
   "source": [
    "import pandas as pd\n",
    "from ast import literal_eval"
   ]
  },
  {
   "cell_type": "code",
   "execution_count": 32,
   "metadata": {},
   "outputs": [],
   "source": [
    "data = pd.read_csv(\"raw/AnimeList.csv\")"
   ]
  },
  {
   "cell_type": "code",
   "execution_count": 33,
   "metadata": {},
   "outputs": [],
   "source": [
    "project = data[['anime_id', 'title', 'episodes', 'aired']]"
   ]
  },
  {
   "cell_type": "code",
   "execution_count": 34,
   "metadata": {},
   "outputs": [],
   "source": [
    "project['from'] = project.aired.apply(lambda x: literal_eval(x)['from'])"
   ]
  },
  {
   "cell_type": "code",
   "execution_count": 35,
   "metadata": {},
   "outputs": [],
   "source": [
    "project['to'] = project.aired.apply(lambda x: literal_eval(x)['to'])\n"
   ]
  },
  {
   "cell_type": "code",
   "execution_count": 36,
   "metadata": {},
   "outputs": [],
   "source": [
    "project.drop('aired', axis='columns', inplace=True)"
   ]
  },
  {
   "cell_type": "code",
   "execution_count": 37,
   "metadata": {},
   "outputs": [
    {
     "output_type": "execute_result",
     "data": {
      "text/plain": "       anime_id                                  title  episodes        from  \\\n0         11013                          Inu x Boku SS        12  2012-01-13   \n1          2104                       Seto no Hanayome        26  2007-04-02   \n2          5262                     Shugo Chara!! Doki        51  2008-10-04   \n3           721                          Princess Tutu        38  2002-08-16   \n4         12365                    Bakuman. 3rd Season        25  2012-10-06   \n...         ...                                    ...       ...         ...   \n14473     26089             Gutchonpa Omoshiro Hanashi         5  1987-11-05   \n14474     21525                   Geba Geba Shou Time!         1  1986-03-21   \n14475     37897            Godzilla: Hoshi wo Kuu Mono         1        None   \n14476     34193  Nippon Mukashibanashi: Sannen Netarou         1        None   \n14477     37908             Senjou no Valkyria Special         1  2010-04-07   \n\n               to  \n0      2012-03-30  \n1      2007-10-01  \n2      2009-09-25  \n3      2003-05-23  \n4      2013-03-30  \n...           ...  \n14473  1988-11-04  \n14474  1986-03-21  \n14475        None  \n14476        None  \n14477  2010-04-07  \n\n[14478 rows x 5 columns]",
      "text/html": "<div>\n<style scoped>\n    .dataframe tbody tr th:only-of-type {\n        vertical-align: middle;\n    }\n\n    .dataframe tbody tr th {\n        vertical-align: top;\n    }\n\n    .dataframe thead th {\n        text-align: right;\n    }\n</style>\n<table border=\"1\" class=\"dataframe\">\n  <thead>\n    <tr style=\"text-align: right;\">\n      <th></th>\n      <th>anime_id</th>\n      <th>title</th>\n      <th>episodes</th>\n      <th>from</th>\n      <th>to</th>\n    </tr>\n  </thead>\n  <tbody>\n    <tr>\n      <th>0</th>\n      <td>11013</td>\n      <td>Inu x Boku SS</td>\n      <td>12</td>\n      <td>2012-01-13</td>\n      <td>2012-03-30</td>\n    </tr>\n    <tr>\n      <th>1</th>\n      <td>2104</td>\n      <td>Seto no Hanayome</td>\n      <td>26</td>\n      <td>2007-04-02</td>\n      <td>2007-10-01</td>\n    </tr>\n    <tr>\n      <th>2</th>\n      <td>5262</td>\n      <td>Shugo Chara!! Doki</td>\n      <td>51</td>\n      <td>2008-10-04</td>\n      <td>2009-09-25</td>\n    </tr>\n    <tr>\n      <th>3</th>\n      <td>721</td>\n      <td>Princess Tutu</td>\n      <td>38</td>\n      <td>2002-08-16</td>\n      <td>2003-05-23</td>\n    </tr>\n    <tr>\n      <th>4</th>\n      <td>12365</td>\n      <td>Bakuman. 3rd Season</td>\n      <td>25</td>\n      <td>2012-10-06</td>\n      <td>2013-03-30</td>\n    </tr>\n    <tr>\n      <th>...</th>\n      <td>...</td>\n      <td>...</td>\n      <td>...</td>\n      <td>...</td>\n      <td>...</td>\n    </tr>\n    <tr>\n      <th>14473</th>\n      <td>26089</td>\n      <td>Gutchonpa Omoshiro Hanashi</td>\n      <td>5</td>\n      <td>1987-11-05</td>\n      <td>1988-11-04</td>\n    </tr>\n    <tr>\n      <th>14474</th>\n      <td>21525</td>\n      <td>Geba Geba Shou Time!</td>\n      <td>1</td>\n      <td>1986-03-21</td>\n      <td>1986-03-21</td>\n    </tr>\n    <tr>\n      <th>14475</th>\n      <td>37897</td>\n      <td>Godzilla: Hoshi wo Kuu Mono</td>\n      <td>1</td>\n      <td>None</td>\n      <td>None</td>\n    </tr>\n    <tr>\n      <th>14476</th>\n      <td>34193</td>\n      <td>Nippon Mukashibanashi: Sannen Netarou</td>\n      <td>1</td>\n      <td>None</td>\n      <td>None</td>\n    </tr>\n    <tr>\n      <th>14477</th>\n      <td>37908</td>\n      <td>Senjou no Valkyria Special</td>\n      <td>1</td>\n      <td>2010-04-07</td>\n      <td>2010-04-07</td>\n    </tr>\n  </tbody>\n</table>\n<p>14478 rows × 5 columns</p>\n</div>"
     },
     "metadata": {},
     "execution_count": 37
    }
   ],
   "source": [
    "project"
   ]
  },
  {
   "cell_type": "code",
   "execution_count": 39,
   "metadata": {},
   "outputs": [],
   "source": [
    "project.to_json(\"history.json\", orient=\"records\")"
   ]
  },
  {
   "cell_type": "code",
   "execution_count": null,
   "metadata": {},
   "outputs": [],
   "source": []
  }
 ],
 "metadata": {
  "language_info": {
   "codemirror_mode": {
    "name": "ipython",
    "version": 3
   },
   "file_extension": ".py",
   "mimetype": "text/x-python",
   "name": "python",
   "nbconvert_exporter": "python",
   "pygments_lexer": "ipython3",
   "version": "3.6.9-final"
  },
  "orig_nbformat": 2,
  "kernelspec": {
   "name": "python36964bit2d30476926194d92afff160a99955f2e",
   "display_name": "Python 3.6.9 64-bit"
  }
 },
 "nbformat": 4,
 "nbformat_minor": 2
}