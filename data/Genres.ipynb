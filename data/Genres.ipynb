{
 "cells": [
  {
   "cell_type": "code",
   "execution_count": 1,
   "metadata": {},
   "outputs": [],
   "source": [
    "import pandas as pd\n",
    "import requests\n",
    "\n",
    "from functools import reduce\n",
    "\n",
    "import matplotlib.pyplot as plt\n",
    "\n",
    "import os\n",
    "import json"
   ]
  },
  {
   "cell_type": "code",
   "execution_count": 2,
   "metadata": {},
   "outputs": [],
   "source": [
    "MYANIMELIST = 'raw/'\n",
    "\n",
    "ANIME_CLEAN = 'anime_cleaned.csv'"
   ]
  },
  {
   "cell_type": "code",
   "execution_count": 3,
   "metadata": {},
   "outputs": [],
   "source": [
    "anime_clean_data = pd.read_csv(os.path.join(MYANIMELIST, ANIME_CLEAN), index_col='title')"
   ]
  },
  {
   "cell_type": "code",
   "execution_count": 4,
   "metadata": {},
   "outputs": [
    {
     "data": {
      "text/plain": [
       "Index(['anime_id', 'title_english', 'title_japanese', 'title_synonyms',\n",
       "       'image_url', 'type', 'source', 'episodes', 'status', 'airing',\n",
       "       'aired_string', 'aired', 'duration', 'rating', 'score', 'scored_by',\n",
       "       'rank', 'popularity', 'members', 'favorites', 'background', 'premiered',\n",
       "       'broadcast', 'related', 'producer', 'licensor', 'studio', 'genre',\n",
       "       'opening_theme', 'ending_theme', 'duration_min', 'aired_from_year'],\n",
       "      dtype='object')"
      ]
     },
     "execution_count": 4,
     "metadata": {},
     "output_type": "execute_result"
    }
   ],
   "source": [
    "anime_clean_data.columns"
   ]
  },
  {
   "cell_type": "code",
   "execution_count": 5,
   "metadata": {},
   "outputs": [
    {
     "data": {
      "text/plain": [
       "title\n",
       "Inu x Boku SS                                                   Comedy, Supernatural, Romance, Shounen\n",
       "Seto no Hanayome                                              Comedy, Parody, Romance, School, Shounen\n",
       "Shugo Chara!! Doki                                                       Comedy, Magic, School, Shoujo\n",
       "Princess Tutu                                                   Comedy, Drama, Magic, Romance, Fantasy\n",
       "Bakuman. 3rd Season                                                    Comedy, Drama, Romance, Shounen\n",
       "                                                                                ...                   \n",
       "Dokidoki Little Ooyasan                                                                         Hentai\n",
       "Wo Shi Jiang Xiaobai (2018)                                              Slice of Life, Drama, Romance\n",
       "Genki Genki Non-tan: Obake Mura Meiro                                                      Music, Kids\n",
       "Mr. Men Little Miss                                                                               Kids\n",
       "Mushi Mushi Mura no Nakama-tachi: Minna Ii Toko Arun Da yo                                        Kids\n",
       "Name: genre, Length: 6668, dtype: object"
      ]
     },
     "execution_count": 5,
     "metadata": {},
     "output_type": "execute_result"
    }
   ],
   "source": [
    "anime_clean_data.genre"
   ]
  },
  {
   "cell_type": "code",
   "execution_count": 6,
   "metadata": {},
   "outputs": [],
   "source": [
    "# transform genre csv into list\n",
    "anime_clean_data['genre'] = anime_clean_data.genre.str.split(',')\n",
    "\n",
    "# remove NANs\n",
    "anime_clean_data = anime_clean_data[anime_clean_data.genre.notna()]\n",
    "\n",
    "# change image domain\n",
    "anime_clean_data['image_url'] = anime_clean_data['image_url'].str.replace('myanimelist.cdn-dena.com', 'cdn.myanimelist.net')"
   ]
  },
  {
   "cell_type": "code",
   "execution_count": 7,
   "metadata": {},
   "outputs": [],
   "source": [
    "anime_clean_split_genre = anime_clean_data.explode('genre').copy()\n",
    "anime_clean_split_genre['genre'] = anime_clean_split_genre['genre'].str.strip()"
   ]
  },
  {
   "cell_type": "code",
   "execution_count": 8,
   "metadata": {},
   "outputs": [],
   "source": [
    "anime_clean_split_top3genre = anime_clean_data.copy()\n",
    "anime_clean_split_top3genre['genre'] = anime_clean_split_top3genre['genre'].apply(lambda x: x[:3])\n",
    "anime_clean_split_top3genre = anime_clean_split_top3genre.explode('genre').copy()\n",
    "anime_clean_split_top3genre['genre'] = anime_clean_split_top3genre['genre'].str.strip()"
   ]
  },
  {
   "cell_type": "code",
   "execution_count": 9,
   "metadata": {
    "scrolled": false
   },
   "outputs": [
    {
     "data": {
      "text/plain": [
       "Comedy       3021\n",
       "Action       2051\n",
       "Fantasy      1441\n",
       "Adventure    1355\n",
       "Drama        1338\n",
       "Name: genre, dtype: int64"
      ]
     },
     "execution_count": 9,
     "metadata": {},
     "output_type": "execute_result"
    }
   ],
   "source": [
    "genres_count = anime_clean_split_genre.genre.value_counts()\n",
    "genres_count.head()"
   ]
  },
  {
   "cell_type": "code",
   "execution_count": 10,
   "metadata": {},
   "outputs": [
    {
     "data": {
      "text/plain": [
       "<matplotlib.axes._subplots.AxesSubplot at 0x7f3bff350160>"
      ]
     },
     "execution_count": 10,
     "metadata": {},
     "output_type": "execute_result"
    },
    {
     "data": {
      "image/png": "[encoded data removed]",
      "text/plain": [
       "<Figure size 864x360 with 1 Axes>"
      ]
     },
     "metadata": {
      "needs_background": "light"
     },
     "output_type": "display_data"
    }
   ],
   "source": [
    "genres_count.plot.bar(figsize=(12,5), title='Number of animes per genre')"
   ]
  },
  {
   "cell_type": "code",
   "execution_count": 11,
   "metadata": {},
   "outputs": [],
   "source": [
    "sorted_by_favorites = anime_clean_split_genre.sort_values('favorites', ascending=False)"
   ]
  },
  {
   "cell_type": "code",
   "execution_count": 12,
   "metadata": {},
   "outputs": [],
   "source": [
    "TOP_N = 50\n",
    "top_animes_per_genre = {}\n",
    "\n",
    "for genre in genres_count.index:\n",
    "    top_animes_per_genre[genre] = sorted_by_favorites[sorted_by_favorites.genre == genre].index[:TOP_N]"
   ]
  },
  {
   "cell_type": "code",
   "execution_count": 13,
   "metadata": {},
   "outputs": [
    {
     "data": {
      "text/plain": [
       "Index(['Fullmetal Alchemist: Brotherhood', 'One Piece',\n",
       "       'Tengen Toppa Gurren Lagann', 'Clannad: After Story',\n",
       "       'Naruto: Shippuuden', 'Bleach', 'Cowboy Bebop', 'Fairy Tail',\n",
       "       'Angel Beats!', 'Toradora!', 'Naruto', 'Gintama', 'No Game No Life',\n",
       "       'One Punch Man', 'Ouran Koukou Host Club', 'Haikyuu!!', 'Clannad',\n",
       "       'Kill la Kill', 'Fullmetal Alchemist', 'Dragon Ball Z',\n",
       "       'Boku no Hero Academia', 'Kuroshitsuji', 'Samurai Champloo', 'Noragami',\n",
       "       'Sakurasou no Pet na Kanojo', 'Soul Eater', 'Baccano!', 'FLCL',\n",
       "       'NHK ni Youkoso!', 'Kuroko no Basket', 'Kaichou wa Maid-sama!',\n",
       "       'Great Teacher Onizuka', 'Suzumiya Haruhi no Yuuutsu',\n",
       "       'Yahari Ore no Seishun Love Comedy wa Machigatteiru.',\n",
       "       'Katekyo Hitman Reborn!', 'Kono Subarashii Sekai ni Shukufuku wo!',\n",
       "       'K-On!', 'High School DxD', 'Nichijou', 'Nana', 'InuYasha',\n",
       "       'D.Gray-man', 'Monogatari Series: Second Season',\n",
       "       'Boku no Hero Academia 2nd Season', 'Yuri!!! on Ice', 'Yuu☆Yuu☆Hakusho',\n",
       "       'Hajime no Ippo', 'Ansatsu Kyoushitsu', 'Trigun',\n",
       "       'Yahari Ore no Seishun Love Comedy wa Machigatteiru. Zoku'],\n",
       "      dtype='object', name='title')"
      ]
     },
     "execution_count": 13,
     "metadata": {},
     "output_type": "execute_result"
    }
   ],
   "source": [
    "top_animes_per_genre['Comedy']"
   ]
  },
  {
   "cell_type": "code",
   "execution_count": 14,
   "metadata": {},
   "outputs": [],
   "source": [
    "representative_anime = {}\n",
    "\n",
    "for genre in genres_count.index:\n",
    "    idx = 0\n",
    "    while top_animes_per_genre[genre][idx] in representative_anime.values():\n",
    "        idx += 1\n",
    "    representative_anime[genre] = top_animes_per_genre[genre][idx]"
   ]
  },
  {
   "cell_type": "code",
   "execution_count": 15,
   "metadata": {},
   "outputs": [
    {
     "data": {
      "text/plain": [
       "{'Comedy': 'Fullmetal Alchemist: Brotherhood',\n",
       " 'Action': 'One Piece',\n",
       " 'Fantasy': 'Shingeki no Kyojin',\n",
       " 'Adventure': 'Hunter x Hunter (2011)',\n",
       " 'Drama': 'Code Geass: Hangyaku no Lelouch',\n",
       " 'Sci-Fi': 'Steins;Gate',\n",
       " 'Shounen': 'Death Note',\n",
       " 'Romance': 'Sword Art Online',\n",
       " 'School': 'Shigatsu wa Kimi no Uso',\n",
       " 'Slice of Life': 'Clannad: After Story',\n",
       " 'Supernatural': 'Bleach',\n",
       " 'Magic': 'Fairy Tail',\n",
       " 'Mecha': 'Tengen Toppa Gurren Lagann',\n",
       " 'Ecchi': 'No Game No Life',\n",
       " 'Seinen': 'One Punch Man',\n",
       " 'Mystery': 'Tokyo Ghoul',\n",
       " 'Shoujo': 'Ouran Koukou Host Club',\n",
       " 'Historical': 'Gintama',\n",
       " 'Kids': 'Pokemon',\n",
       " 'Super Power': 'Code Geass: Hangyaku no Lelouch R2',\n",
       " 'Sports': 'Haikyuu!!',\n",
       " 'Hentai': 'Boku no Pico',\n",
       " 'Music': 'K-On!',\n",
       " 'Military': 'Fullmetal Alchemist',\n",
       " 'Harem': 'High School DxD',\n",
       " 'Parody': 'FLCL',\n",
       " 'Space': 'Cowboy Bebop',\n",
       " 'Horror': 'Elfen Lied',\n",
       " 'Demons': 'Kuroshitsuji',\n",
       " 'Psychological': 'Neon Genesis Evangelion',\n",
       " 'Martial Arts': 'Naruto: Shippuuden',\n",
       " 'Game': 'Death Parade',\n",
       " 'Police': 'Psycho-Pass',\n",
       " 'Samurai': 'Samurai Champloo',\n",
       " 'Vampire': 'Bakemonogatari',\n",
       " 'Thriller': 'Mahou Shoujo Madoka★Magica',\n",
       " 'Josei': 'Usagi Drop',\n",
       " 'Shoujo Ai': 'Yuru Yuri',\n",
       " 'Shounen Ai': 'Junjou Romantica',\n",
       " 'Dementia': 'Higurashi no Naku Koro ni',\n",
       " 'Cars': 'Initial D First Stage',\n",
       " 'Yaoi': 'Ai no Kusabi',\n",
       " 'Yuri': 'Sono Hanabira ni Kuchizuke wo: Anata to Koibito Tsunagi'}"
      ]
     },
     "execution_count": 15,
     "metadata": {},
     "output_type": "execute_result"
    }
   ],
   "source": [
    "representative_anime"
   ]
  },
  {
   "cell_type": "code",
   "execution_count": 16,
   "metadata": {},
   "outputs": [],
   "source": [
    "image_per_genre = {}\n",
    "\n",
    "for genre in genres_count.index:\n",
    "    represent = representative_anime[genre]\n",
    "    image_per_genre[genre] = anime_clean_data.loc[represent].image_url.replace('myanimelist.cdn-dena.com', 'cdn.myanimelist.net')"
   ]
  },
  {
   "cell_type": "code",
   "execution_count": 17,
   "metadata": {},
   "outputs": [
    {
     "data": {
      "text/plain": [
       "{'Comedy': 'https://cdn.myanimelist.net/images/anime/5/47421.jpg',\n",
       " 'Action': 'https://cdn.myanimelist.net/images/anime/6/73245.jpg',\n",
       " 'Fantasy': 'https://cdn.myanimelist.net/images/anime/10/47347.jpg',\n",
       " 'Adventure': 'https://cdn.myanimelist.net/images/anime/11/33657.jpg',\n",
       " 'Drama': 'https://cdn.myanimelist.net/images/anime/5/50331.jpg',\n",
       " 'Sci-Fi': 'https://cdn.myanimelist.net/images/anime/5/73199.jpg',\n",
       " 'Shounen': 'https://cdn.myanimelist.net/images/anime/9/9453.jpg',\n",
       " 'Romance': 'https://cdn.myanimelist.net/images/anime/11/39717.jpg',\n",
       " 'School': 'https://cdn.myanimelist.net/images/anime/3/67177.jpg',\n",
       " 'Slice of Life': 'https://cdn.myanimelist.net/images/anime/13/24647.jpg',\n",
       " 'Supernatural': 'https://cdn.myanimelist.net/images/anime/3/40451.jpg',\n",
       " 'Magic': 'https://cdn.myanimelist.net/images/anime/5/18179.jpg',\n",
       " 'Mecha': 'https://cdn.myanimelist.net/images/anime/4/5123.jpg',\n",
       " 'Ecchi': 'https://cdn.myanimelist.net/images/anime/5/65187.jpg',\n",
       " 'Seinen': 'https://cdn.myanimelist.net/images/anime/12/76049.jpg',\n",
       " 'Mystery': 'https://cdn.myanimelist.net/images/anime/5/64449.jpg',\n",
       " 'Shoujo': 'https://cdn.myanimelist.net/images/anime/2/71992.jpg',\n",
       " 'Historical': 'https://cdn.myanimelist.net/images/anime/2/10038.jpg',\n",
       " 'Kids': 'https://cdn.myanimelist.net/images/anime/13/73834.jpg',\n",
       " 'Super Power': 'https://cdn.myanimelist.net/images/anime/4/9391.jpg',\n",
       " 'Sports': 'https://cdn.myanimelist.net/images/anime/7/76014.jpg',\n",
       " 'Hentai': 'https://cdn.myanimelist.net/images/anime/12/39497.jpg',\n",
       " 'Music': 'https://cdn.myanimelist.net/images/anime/10/76120.jpg',\n",
       " 'Military': 'https://cdn.myanimelist.net/images/anime/10/75815.jpg',\n",
       " 'Harem': 'https://cdn.myanimelist.net/images/anime/2/32527.jpg',\n",
       " 'Parody': 'https://cdn.myanimelist.net/images/anime/7/77356.jpg',\n",
       " 'Space': 'https://cdn.myanimelist.net/images/anime/4/19644.jpg',\n",
       " 'Horror': 'https://cdn.myanimelist.net/images/anime/10/6883.jpg',\n",
       " 'Demons': 'https://cdn.myanimelist.net/images/anime/5/27013.jpg',\n",
       " 'Psychological': 'https://cdn.myanimelist.net/images/anime/12/21418.jpg',\n",
       " 'Martial Arts': 'https://cdn.myanimelist.net/images/anime/5/17407.jpg',\n",
       " 'Game': 'https://cdn.myanimelist.net/images/anime/5/71553.jpg',\n",
       " 'Police': 'https://cdn.myanimelist.net/images/anime/5/43399.jpg',\n",
       " 'Samurai': 'https://cdn.myanimelist.net/images/anime/11/29134.jpg',\n",
       " 'Vampire': 'https://cdn.myanimelist.net/images/anime/11/75274.jpg',\n",
       " 'Thriller': 'https://cdn.myanimelist.net/images/anime/11/55225.jpg',\n",
       " 'Josei': 'https://cdn.myanimelist.net/images/anime/2/29665.jpg',\n",
       " 'Shoujo Ai': 'https://cdn.myanimelist.net/images/anime/2/52921.jpg',\n",
       " 'Shounen Ai': 'https://cdn.myanimelist.net/images/anime/7/8811.jpg',\n",
       " 'Dementia': 'https://cdn.myanimelist.net/images/anime/12/19634.jpg',\n",
       " 'Cars': 'https://cdn.myanimelist.net/images/anime/13/6801.jpg',\n",
       " 'Yaoi': 'https://cdn.myanimelist.net/images/anime/8/6531.jpg',\n",
       " 'Yuri': 'https://cdn.myanimelist.net/images/anime/5/24845.jpg'}"
      ]
     },
     "execution_count": 17,
     "metadata": {},
     "output_type": "execute_result"
    }
   ],
   "source": [
    "image_per_genre"
   ]
  },
  {
   "cell_type": "code",
   "execution_count": 43,
   "metadata": {},
   "outputs": [],
   "source": [
    "data_per_genre = []\n",
    "\n",
    "for genre in genres_count.index:\n",
    "    data_per_genre.append({\n",
    "        \"name\": genre,\n",
    "        \"count\": int(genres_count[genre]),\n",
    "        \"representative_anime\": representative_anime[genre],\n",
    "        \"image\": image_per_genre[genre]\n",
    "    })"
   ]
  },
  {
   "cell_type": "code",
   "execution_count": 44,
   "metadata": {},
   "outputs": [],
   "source": [
    "with open('genre_data.json', 'w') as outfile:\n",
    "    json.dump(data_per_genre, outfile)"
   ]
  },
  {
   "cell_type": "code",
   "execution_count": 32,
   "metadata": {},
   "outputs": [
    {
     "data": {
      "text/plain": [
       "title\n",
       "Inu x Boku SS                                                 7.63\n",
       "Seto no Hanayome                                              7.89\n",
       "Shugo Chara!! Doki                                            7.55\n",
       "Princess Tutu                                                 8.21\n",
       "Bakuman. 3rd Season                                           8.67\n",
       "                                                              ... \n",
       "Dokidoki Little Ooyasan                                       9.52\n",
       "Wo Shi Jiang Xiaobai (2018)                                   0.00\n",
       "Genki Genki Non-tan: Obake Mura Meiro                         4.20\n",
       "Mr. Men Little Miss                                           4.57\n",
       "Mushi Mushi Mura no Nakama-tachi: Minna Ii Toko Arun Da yo    7.00\n",
       "Name: score, Length: 6664, dtype: float64"
      ]
     },
     "execution_count": 32,
     "metadata": {},
     "output_type": "execute_result"
    }
   ],
   "source": [
    "anime_clean_data.score"
   ]
  },
  {
   "cell_type": "code",
   "execution_count": 33,
   "metadata": {},
   "outputs": [],
   "source": [
    "columns_of_interest = ['anime_id', 'image_url', 'type', 'source',\n",
    "                       'episodes', 'aired_string', 'duration',\n",
    "                       'score', 'favorites',\n",
    "                       'producer', 'licensor', 'studio', 'genre']"
   ]
  },
  {
   "cell_type": "code",
   "execution_count": 34,
   "metadata": {},
   "outputs": [],
   "source": [
    "anime_clean_data_interest = anime_clean_data[columns_of_interest].fillna(\"\")"
   ]
  },
  {
   "cell_type": "code",
   "execution_count": 35,
   "metadata": {},
   "outputs": [],
   "source": [
    "top_animes_data_per_genre = {}\n",
    "for genre in genres_count.index:\n",
    "    genre_top_animes = top_animes_per_genre[genre]\n",
    "    top_animes_data_per_genre[genre] = anime_clean_data_interest.loc[genre_top_animes].reset_index().to_dict(orient=\"records\")"
   ]
  },
  {
   "cell_type": "code",
   "execution_count": 36,
   "metadata": {},
   "outputs": [],
   "source": [
    "with open('genre_top_animes_data.json', 'w') as outfile:\n",
    "    json.dump(top_animes_data_per_genre, outfile)"
   ]
  }
 ],
 "metadata": {
  "kernelspec": {
   "display_name": "Python 3",
   "language": "python",
   "name": "python3"
  },
  "language_info": {
   "codemirror_mode": {
    "name": "ipython",
    "version": 3
   },
   "file_extension": ".py",
   "mimetype": "text/x-python",
   "name": "python",
   "nbconvert_exporter": "python",
   "pygments_lexer": "ipython3",
   "version": "3.8.2"
  }
 },
 "nbformat": 4,
 "nbformat_minor": 4
}